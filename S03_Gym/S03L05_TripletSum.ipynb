{
 "cells": [
  {
   "cell_type": "raw",
   "id": "6ad8c3cc",
   "metadata": {},
   "source": [
    "Given an integer array, return all the triplets of different elements (index,value) that sum to 0"
   ]
  },
  {
   "cell_type": "code",
   "execution_count": 2,
   "id": "2dec865d",
   "metadata": {},
   "outputs": [],
   "source": [
    "import numpy as np"
   ]
  },
  {
   "cell_type": "code",
   "execution_count": 5,
   "id": "be85c08c",
   "metadata": {},
   "outputs": [],
   "source": [
    "def find_triplets(arr):\n",
    "    results = {}\n",
    "    num_elems = len(arr)\n",
    "    aux_dict = {}\n",
    "    for ind,el in enumerate(arr):\n",
    "        aux_dict[el]=ind\n",
    "    for ind1 in range(num_elems):\n",
    "        for ind2 in range(ind1+1,num_elems):\n",
    "            target = -(arr[ind1]+arr[ind2])\n",
    "            if aux_dict.get(target,-1)!=-1:\n",
    "                triplet = sorted([arr[ind1],arr[ind2],target])\n",
    "                if len(set(triplet))==3:\n",
    "                    results[tuple(triplet)]=True\n",
    "    return list(results.keys())"
   ]
  },
  {
   "cell_type": "code",
   "execution_count": 10,
   "id": "c5093ffc",
   "metadata": {},
   "outputs": [
    {
     "data": {
      "text/plain": [
       "[0, 1, 2, -5, 13, -8, 11, 9, 17, 5, 8, 13, 4, 5, -5, 7, -5, -6]"
      ]
     },
     "execution_count": 10,
     "metadata": {},
     "output_type": "execute_result"
    }
   ],
   "source": [
    "arr = [np.random.randint(-10,20) for _ in range(18)]\n",
    "arr"
   ]
  },
  {
   "cell_type": "code",
   "execution_count": 11,
   "id": "d1dc8733",
   "metadata": {},
   "outputs": [
    {
     "data": {
      "text/plain": [
       "[(-5, 0, 5),\n",
       " (-8, 0, 8),\n",
       " (-5, 1, 4),\n",
       " (-8, 1, 7),\n",
       " (-6, 1, 5),\n",
       " (-6, 2, 4),\n",
       " (-8, -5, 13),\n",
       " (-6, -5, 11)]"
      ]
     },
     "execution_count": 11,
     "metadata": {},
     "output_type": "execute_result"
    }
   ],
   "source": [
    "find_triplets(arr)"
   ]
  },
  {
   "cell_type": "code",
   "execution_count": null,
   "id": "e4ef9ae9",
   "metadata": {},
   "outputs": [],
   "source": []
  }
 ],
 "metadata": {
  "kernelspec": {
   "display_name": "Python 3 (ipykernel)",
   "language": "python",
   "name": "python3"
  },
  "language_info": {
   "codemirror_mode": {
    "name": "ipython",
    "version": 3
   },
   "file_extension": ".py",
   "mimetype": "text/x-python",
   "name": "python",
   "nbconvert_exporter": "python",
   "pygments_lexer": "ipython3",
   "version": "3.9.7"
  }
 },
 "nbformat": 4,
 "nbformat_minor": 5
}
