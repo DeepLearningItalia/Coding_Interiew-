{
 "cells": [
  {
   "cell_type": "raw",
   "id": "f4f42bdd",
   "metadata": {},
   "source": [
    "Check if a binary tree is height-balanced; that is, if the height of the left subtree and right subtree of any node does not differ by more than 1 and both the left and right subtree are also height balanced."
   ]
  },
  {
   "cell_type": "code",
   "execution_count": 13,
   "id": "e8eb28da",
   "metadata": {},
   "outputs": [],
   "source": [
    "class TreeNode():\n",
    "    def __init__(self,val):\n",
    "        self.val = val\n",
    "        self.left = None\n",
    "        self.right = None"
   ]
  },
  {
   "cell_type": "code",
   "execution_count": 14,
   "id": "2e75105f",
   "metadata": {},
   "outputs": [],
   "source": [
    "def is_balanced_aux(root):    \n",
    "    if root is None:\n",
    "        return 0,True\n",
    "    else:\n",
    "        ldepth,lbal = is_balanced_aux(root.left)\n",
    "        rdepth,rbal = is_balanced_aux(root.right)\n",
    "        depth = max(ldepth,rdepth)+1\n",
    "        balance = ldepth-rdepth in [-1,0,1] and lbal and rbal\n",
    "        if not balance:\n",
    "            print('Node',root.val,'unbalanced:',ldepth,rdepth)\n",
    "        return depth,balance\n",
    "    \n",
    "def is_balanced(root):\n",
    "    return is_balanced_aux(root)[1]"
   ]
  },
  {
   "cell_type": "code",
   "execution_count": 24,
   "id": "d7a2ad0f",
   "metadata": {},
   "outputs": [],
   "source": [
    "root = TreeNode(10)\n",
    "root.left = TreeNode(5)\n",
    "#root.right = TreeNode(15)\n",
    "root.left.left = TreeNode(2)\n",
    "root.left.right = TreeNode(8)\n",
    "#root.right.left = TreeNode(12)\n",
    "#root.right.right = TreeNode(18)"
   ]
  },
  {
   "cell_type": "code",
   "execution_count": 25,
   "id": "0db44d6c",
   "metadata": {},
   "outputs": [
    {
     "name": "stdout",
     "output_type": "stream",
     "text": [
      "\t    10\n",
      "    5\t\t    15\n",
      "2\t8\t12\t18\n"
     ]
    }
   ],
   "source": [
    "print('\\t    10\\n    5\\t\\t    15\\n2\\t8\\t12\\t18')"
   ]
  },
  {
   "cell_type": "code",
   "execution_count": 26,
   "id": "a0dad598",
   "metadata": {},
   "outputs": [
    {
     "name": "stdout",
     "output_type": "stream",
     "text": [
      "Node 10 unbalanced: 2 0\n"
     ]
    },
    {
     "data": {
      "text/plain": [
       "False"
      ]
     },
     "execution_count": 26,
     "metadata": {},
     "output_type": "execute_result"
    }
   ],
   "source": [
    "is_balanced(root)"
   ]
  },
  {
   "cell_type": "code",
   "execution_count": null,
   "id": "ad620f74",
   "metadata": {},
   "outputs": [],
   "source": []
  }
 ],
 "metadata": {
  "kernelspec": {
   "display_name": "Python 3 (ipykernel)",
   "language": "python",
   "name": "python3"
  },
  "language_info": {
   "codemirror_mode": {
    "name": "ipython",
    "version": 3
   },
   "file_extension": ".py",
   "mimetype": "text/x-python",
   "name": "python",
   "nbconvert_exporter": "python",
   "pygments_lexer": "ipython3",
   "version": "3.9.7"
  }
 },
 "nbformat": 4,
 "nbformat_minor": 5
}
