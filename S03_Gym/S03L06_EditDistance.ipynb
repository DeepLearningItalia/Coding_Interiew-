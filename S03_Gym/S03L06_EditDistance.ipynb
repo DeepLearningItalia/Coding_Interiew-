{
 "cells": [
  {
   "cell_type": "raw",
   "id": "69c5e26a",
   "metadata": {},
   "source": [
    "Given a source string and a target string, find the minimum edit distance between the two strings.\n",
    "Assume you can either insert, remove, or edit a character with costs of 1,1 and 2."
   ]
  },
  {
   "cell_type": "code",
   "execution_count": 11,
   "id": "9070b7b7",
   "metadata": {},
   "outputs": [],
   "source": [
    "import matplotlib.pyplot as plt\n",
    "import numpy as np\n",
    "from matplotlib import colors"
   ]
  },
  {
   "cell_type": "code",
   "execution_count": 12,
   "id": "b14ed66f",
   "metadata": {},
   "outputs": [],
   "source": [
    "def edit_distance(s1,s2):\n",
    "    nr,nc = len(s1)+1,len(s2)+1\n",
    "    m = np.zeros((nr,nc),dtype='int')\n",
    "    m[0,:]=range(nc)\n",
    "    m[:,0]=range(nr)\n",
    "    for i in range(1,nr):\n",
    "        for j in range(1,nc):\n",
    "            local_cost = 0 if s1[i-1]==s2[j-1] else 2\n",
    "            m[i,j]= min([m[i-1,j]+1,m[i,j-1]+1,m[i-1,j-1]+local_cost])\n",
    "    return m[-1,-1],m"
   ]
  },
  {
   "cell_type": "code",
   "execution_count": 13,
   "id": "7113e985",
   "metadata": {},
   "outputs": [
    {
     "data": {
      "image/png": "[encoded data removed]",
      "text/plain": [
       "<Figure size 432x288 with 1 Axes>"
      ]
     },
     "metadata": {
      "needs_background": "light"
     },
     "output_type": "display_data"
    }
   ],
   "source": [
    "s1 = 'art'\n",
    "s2 = 'party'\n",
    "nr,nc = len(s1)+1,len(s2)+1\n",
    "edit_cost,m = edit_distance(s1,s2)\n",
    "cmap = colors.ListedColormap(['white']*100)\n",
    "plt.matshow(m,cmap=cmap)\n",
    "for i in range(nr):\n",
    "    for j in range(nc):\n",
    "        plt.text(j, i, str(m[i,j]))\n",
    "plt.xticks(range(nc),'_'+s2)\n",
    "plt.yticks(range(nr),'_'+s1)\n",
    "plt.title('edit distance '+str(edit_cost)+'\\n');"
   ]
  },
  {
   "cell_type": "code",
   "execution_count": null,
   "id": "e41eeb69",
   "metadata": {},
   "outputs": [],
   "source": []
  }
 ],
 "metadata": {
  "kernelspec": {
   "display_name": "Python 3 (ipykernel)",
   "language": "python",
   "name": "python3"
  },
  "language_info": {
   "codemirror_mode": {
    "name": "ipython",
    "version": 3
   },
   "file_extension": ".py",
   "mimetype": "text/x-python",
   "name": "python",
   "nbconvert_exporter": "python",
   "pygments_lexer": "ipython3",
   "version": "3.9.7"
  }
 },
 "nbformat": 4,
 "nbformat_minor": 5
}
