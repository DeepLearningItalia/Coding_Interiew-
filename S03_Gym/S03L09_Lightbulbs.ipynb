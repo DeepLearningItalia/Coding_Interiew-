{
 "cells": [
  {
   "cell_type": "raw",
   "id": "25fd5212",
   "metadata": {},
   "source": [
    "There are n bulbs that are initially off. You first turn on all the bulbs, then you turn off every second bulb.\n",
    "\n",
    "On the third round, you toggle every third bulb (turning on if it's off or turning off if it's on). \n",
    "For the ith round, you toggle every i bulb. For the nth round, you only toggle the last bulb.\n",
    "\n",
    "Return the number of bulbs that are on after n rounds."
   ]
  },
  {
   "cell_type": "code",
   "execution_count": 2,
   "id": "1d294708",
   "metadata": {},
   "outputs": [
    {
     "name": "stdout",
     "output_type": "stream",
     "text": [
      "[1, 1, 1, 1, 1, 1, 1, 1, 1, 1, 1, 1, 1, 1, 1, 1, 1, 1, 1, 1] 1 20\n",
      "[1, 0, 1, 0, 1, 0, 1, 0, 1, 0, 1, 0, 1, 0, 1, 0, 1, 0, 1, 0] 2 10\n",
      "[1, 0, 0, 0, 1, 1, 1, 0, 0, 0, 1, 1, 1, 0, 0, 0, 1, 1, 1, 0] 3 10\n",
      "[1, 0, 0, 1, 1, 1, 1, 1, 0, 0, 1, 0, 1, 0, 0, 1, 1, 1, 1, 1] 4 13\n",
      "[1, 0, 0, 1, 0, 1, 1, 1, 0, 1, 1, 0, 1, 0, 1, 1, 1, 1, 1, 0] 5 13\n",
      "[1, 0, 0, 1, 0, 0, 1, 1, 0, 1, 1, 1, 1, 0, 1, 1, 1, 0, 1, 0] 6 12\n",
      "[1, 0, 0, 1, 0, 0, 0, 1, 0, 1, 1, 1, 1, 1, 1, 1, 1, 0, 1, 0] 7 12\n",
      "[1, 0, 0, 1, 0, 0, 0, 0, 0, 1, 1, 1, 1, 1, 1, 0, 1, 0, 1, 0] 8 10\n",
      "[1, 0, 0, 1, 0, 0, 0, 0, 1, 1, 1, 1, 1, 1, 1, 0, 1, 1, 1, 0] 9 12\n",
      "[1, 0, 0, 1, 0, 0, 0, 0, 1, 0, 1, 1, 1, 1, 1, 0, 1, 1, 1, 1] 10 12\n",
      "[1, 0, 0, 1, 0, 0, 0, 0, 1, 0, 0, 1, 1, 1, 1, 0, 1, 1, 1, 1] 11 11\n",
      "[1, 0, 0, 1, 0, 0, 0, 0, 1, 0, 0, 0, 1, 1, 1, 0, 1, 1, 1, 1] 12 10\n",
      "[1, 0, 0, 1, 0, 0, 0, 0, 1, 0, 0, 0, 0, 1, 1, 0, 1, 1, 1, 1] 13 9\n",
      "[1, 0, 0, 1, 0, 0, 0, 0, 1, 0, 0, 0, 0, 0, 1, 0, 1, 1, 1, 1] 14 8\n",
      "[1, 0, 0, 1, 0, 0, 0, 0, 1, 0, 0, 0, 0, 0, 0, 0, 1, 1, 1, 1] 15 7\n",
      "[1, 0, 0, 1, 0, 0, 0, 0, 1, 0, 0, 0, 0, 0, 0, 1, 1, 1, 1, 1] 16 8\n",
      "[1, 0, 0, 1, 0, 0, 0, 0, 1, 0, 0, 0, 0, 0, 0, 1, 0, 1, 1, 1] 17 7\n",
      "[1, 0, 0, 1, 0, 0, 0, 0, 1, 0, 0, 0, 0, 0, 0, 1, 0, 0, 1, 1] 18 6\n",
      "[1, 0, 0, 1, 0, 0, 0, 0, 1, 0, 0, 0, 0, 0, 0, 1, 0, 0, 0, 1] 19 5\n",
      "[1, 0, 0, 1, 0, 0, 0, 0, 1, 0, 0, 0, 0, 0, 0, 1, 0, 0, 0, 0] 20 4\n"
     ]
    },
    {
     "data": {
      "text/plain": [
       "4"
      ]
     },
     "execution_count": 2,
     "metadata": {},
     "output_type": "execute_result"
    }
   ],
   "source": [
    "def simulate_bulbs(num_bulbs,do_print=False):\n",
    "    bulbs = [0]*num_bulbs\n",
    "    for rnd in range(1,num_bulbs+1):\n",
    "        bulbs = [1-e if (i+1)%rnd==0 else e for i,e in enumerate(bulbs)]\n",
    "        if do_print:\n",
    "            print(bulbs,rnd,sum(bulbs))\n",
    "    return sum(bulbs)\n",
    "\n",
    "simulate_bulbs(20,do_print=True)"
   ]
  },
  {
   "cell_type": "code",
   "execution_count": 3,
   "id": "45400dc6",
   "metadata": {},
   "outputs": [],
   "source": [
    "import math\n",
    "import numpy as np\n",
    "\n",
    "def compute_bulbs(n):\n",
    "    return math.floor(math.sqrt(n))"
   ]
  },
  {
   "cell_type": "code",
   "execution_count": 6,
   "id": "39af3fa1",
   "metadata": {},
   "outputs": [
    {
     "name": "stdout",
     "output_type": "stream",
     "text": [
      "5 bulbs? 2 2\n",
      "14 bulbs? 3 3\n",
      "96 bulbs? 9 9\n",
      "71 bulbs? 8 8\n",
      "52 bulbs? 7 7\n",
      "81 bulbs? 9 9\n",
      "32 bulbs? 5 5\n",
      "47 bulbs? 6 6\n",
      "59 bulbs? 7 7\n",
      "95 bulbs? 9 9\n"
     ]
    }
   ],
   "source": [
    "for _ in range(10):\n",
    "    nbulbs = np.random.randint(0,100)\n",
    "    print(nbulbs,'bulbs?',simulate_bulbs(nbulbs),compute_bulbs(nbulbs))"
   ]
  },
  {
   "cell_type": "code",
   "execution_count": null,
   "id": "3d7899f4",
   "metadata": {},
   "outputs": [],
   "source": []
  }
 ],
 "metadata": {
  "kernelspec": {
   "display_name": "Python 3 (ipykernel)",
   "language": "python",
   "name": "python3"
  },
  "language_info": {
   "codemirror_mode": {
    "name": "ipython",
    "version": 3
   },
   "file_extension": ".py",
   "mimetype": "text/x-python",
   "name": "python",
   "nbconvert_exporter": "python",
   "pygments_lexer": "ipython3",
   "version": "3.9.7"
  }
 },
 "nbformat": 4,
 "nbformat_minor": 5
}
