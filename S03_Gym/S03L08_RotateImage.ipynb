{
 "cells": [
  {
   "cell_type": "raw",
   "id": "9e8d4a5c",
   "metadata": {},
   "source": [
    "Given a matrix representing an image, rotate the image by 90 degrees (clockwise)."
   ]
  },
  {
   "cell_type": "code",
   "execution_count": 8,
   "id": "8ffc3a04",
   "metadata": {},
   "outputs": [],
   "source": [
    "import numpy as np"
   ]
  },
  {
   "cell_type": "code",
   "execution_count": 12,
   "id": "2b4e5082",
   "metadata": {},
   "outputs": [
    {
     "data": {
      "text/plain": [
       "array([[ 1,  2,  3,  4,  5,  6,  7],\n",
       "       [ 8,  9, 10, 11, 12, 13, 14],\n",
       "       [15, 16, 17, 18, 19, 20, 21],\n",
       "       [22, 23, 24, 25, 26, 27, 28],\n",
       "       [29, 30, 31, 32, 33, 34, 35],\n",
       "       [36, 37, 38, 39, 40, 41, 42],\n",
       "       [43, 44, 45, 46, 47, 48, 49]])"
      ]
     },
     "execution_count": 12,
     "metadata": {},
     "output_type": "execute_result"
    }
   ],
   "source": [
    "size = 7\n",
    "img = np.reshape(range(1,size*size+1),(size,size))\n",
    "img"
   ]
  },
  {
   "cell_type": "code",
   "execution_count": 13,
   "id": "f4c83eee",
   "metadata": {},
   "outputs": [],
   "source": [
    "def rotate_matrix(m,size):\n",
    "    for i in range(size//2):\n",
    "        for j in range(i,size-i-1):\n",
    "            tmp = m[size-1-j,i]\n",
    "            m[size-1-j,i]=m[size-1-i,size-1-j]\n",
    "            m[size-1-i,size-1-j]=m[j,size-1-i]\n",
    "            m[j,size-1-i]=m[i,j]\n",
    "            m[i,j]=tmp"
   ]
  },
  {
   "cell_type": "code",
   "execution_count": 14,
   "id": "4a3a4652",
   "metadata": {},
   "outputs": [
    {
     "data": {
      "text/plain": [
       "array([[43, 36, 29, 22, 15,  8,  1],\n",
       "       [44, 37, 30, 23, 16,  9,  2],\n",
       "       [45, 38, 31, 24, 17, 10,  3],\n",
       "       [46, 39, 32, 25, 18, 11,  4],\n",
       "       [47, 40, 33, 26, 19, 12,  5],\n",
       "       [48, 41, 34, 27, 20, 13,  6],\n",
       "       [49, 42, 35, 28, 21, 14,  7]])"
      ]
     },
     "execution_count": 14,
     "metadata": {},
     "output_type": "execute_result"
    }
   ],
   "source": [
    "rotate_matrix(img,size)\n",
    "img"
   ]
  },
  {
   "cell_type": "code",
   "execution_count": null,
   "id": "e5655527",
   "metadata": {},
   "outputs": [],
   "source": []
  }
 ],
 "metadata": {
  "kernelspec": {
   "display_name": "Python 3 (ipykernel)",
   "language": "python",
   "name": "python3"
  },
  "language_info": {
   "codemirror_mode": {
    "name": "ipython",
    "version": 3
   },
   "file_extension": ".py",
   "mimetype": "text/x-python",
   "name": "python",
   "nbconvert_exporter": "python",
   "pygments_lexer": "ipython3",
   "version": "3.9.7"
  }
 },
 "nbformat": 4,
 "nbformat_minor": 5
}
