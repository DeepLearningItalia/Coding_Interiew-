{
 "cells": [
  {
   "cell_type": "raw",
   "id": "185ce99b",
   "metadata": {},
   "source": [
    "Implement a method rand7() given rand5()"
   ]
  },
  {
   "cell_type": "code",
   "execution_count": 1,
   "id": "5315fd4a",
   "metadata": {},
   "outputs": [],
   "source": [
    "import numpy as np\n",
    "import matplotlib.pyplot as plt"
   ]
  },
  {
   "cell_type": "code",
   "execution_count": 2,
   "id": "0ded5114",
   "metadata": {},
   "outputs": [],
   "source": [
    "def rand5():\n",
    "    return np.random.randint(0,5)"
   ]
  },
  {
   "cell_type": "code",
   "execution_count": 3,
   "id": "91f2f41a",
   "metadata": {},
   "outputs": [],
   "source": [
    "def rand7a():\n",
    "    while True:\n",
    "        while True:\n",
    "            b1 = rand5()\n",
    "            if b1>0:\n",
    "                break\n",
    "        while True:\n",
    "            b2 = rand5()\n",
    "            if b2>0:\n",
    "                break\n",
    "        while True:\n",
    "            b3 = rand5()\n",
    "            if b3>0:\n",
    "                break\n",
    "        result = (b1%2)*4+(b2%2)*2+(b3%2)*1\n",
    "        if result<7:\n",
    "            return result"
   ]
  },
  {
   "cell_type": "code",
   "execution_count": 4,
   "id": "3426ef6e",
   "metadata": {},
   "outputs": [],
   "source": [
    "def rand7b():\n",
    "    values = np.reshape(list(range(7))*3+[-1,-1,-1,-1],(5,5))\n",
    "    while True:\n",
    "        i,j = rand5(),rand5()\n",
    "        if values[i,j]!=-1:\n",
    "            return values[i,j]"
   ]
  },
  {
   "cell_type": "code",
   "execution_count": 7,
   "id": "831d154d",
   "metadata": {},
   "outputs": [
    {
     "data": {
      "image/png": "[encoded data removed]",
      "text/plain": [
       "<Figure size 720x216 with 2 Axes>"
      ]
     },
     "metadata": {
      "needs_background": "light"
     },
     "output_type": "display_data"
    }
   ],
   "source": [
    "plt.figure(figsize=(10,3))\n",
    "plt.subplot(1,2,1)\n",
    "plt.hist([rand5() for _ in range(10000)],alpha=.5,bins=5,label='random 5',rwidth=.8)\n",
    "plt.hist([rand7a() for _ in range(10000)],alpha=.5,bins=7,label='random 7a',rwidth=.8)\n",
    "plt.legend();\n",
    "plt.subplot(1,2,2)\n",
    "plt.hist([rand5() for _ in range(10000)],alpha=.5,bins=5,label='random 5',rwidth=.8)\n",
    "plt.hist([rand7b() for _ in range(10000)],alpha=.5,bins=7,label='random 7b',rwidth=.8)\n",
    "plt.legend();"
   ]
  },
  {
   "cell_type": "code",
   "execution_count": null,
   "id": "0c8ddc85",
   "metadata": {},
   "outputs": [],
   "source": []
  }
 ],
 "metadata": {
  "kernelspec": {
   "display_name": "Python 3 (ipykernel)",
   "language": "python",
   "name": "python3"
  },
  "language_info": {
   "codemirror_mode": {
    "name": "ipython",
    "version": 3
   },
   "file_extension": ".py",
   "mimetype": "text/x-python",
   "name": "python",
   "nbconvert_exporter": "python",
   "pygments_lexer": "ipython3",
   "version": "3.9.7"
  }
 },
 "nbformat": 4,
 "nbformat_minor": 5
}
