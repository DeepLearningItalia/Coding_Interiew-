{
 "cells": [
  {
   "cell_type": "raw",
   "id": "68d12fab",
   "metadata": {},
   "source": [
    "Given an array of strings, group the anagrams together. You can return the answer in any order."
   ]
  },
  {
   "cell_type": "code",
   "execution_count": 4,
   "id": "bc790ad4",
   "metadata": {},
   "outputs": [],
   "source": [
    "import numpy as np"
   ]
  },
  {
   "cell_type": "code",
   "execution_count": 5,
   "id": "69b00505",
   "metadata": {},
   "outputs": [],
   "source": [
    "def anagram(s):\n",
    "    return ''.join(np.random.choice(list(s),size=len(s),replace=False))\n",
    "\n",
    "def create_init_list():\n",
    "    groups = ['abcdef','ghijk','lmnop','qrst','uvwxyz']\n",
    "    return [anagram(np.random.choice(groups)) for _ in range(10)]"
   ]
  },
  {
   "cell_type": "code",
   "execution_count": 6,
   "id": "5b87ddbb",
   "metadata": {},
   "outputs": [
    {
     "name": "stdout",
     "output_type": "stream",
     "text": [
      "['srqt', 'tsqr', 'vzyxwu', 'trsq', 'abdcef', 'yxuvzw', 'feacbd', 'ijhkg', 'efabcd', 'tsrq']\n"
     ]
    }
   ],
   "source": [
    "anagram_list = create_init_list()\n",
    "print(anagram_list)"
   ]
  },
  {
   "cell_type": "code",
   "execution_count": 7,
   "id": "28968d02",
   "metadata": {},
   "outputs": [],
   "source": [
    "def partition_anagrams(string_list):\n",
    "    anagram_dict = {}\n",
    "    for s in string_list:\n",
    "        ordered = ''.join(sorted(s))\n",
    "        anagram_dict[ordered] = anagram_dict.get(ordered,[])+[s]\n",
    "    return list(anagram_dict.values())"
   ]
  },
  {
   "cell_type": "code",
   "execution_count": 8,
   "id": "9d971d5d",
   "metadata": {},
   "outputs": [
    {
     "data": {
      "text/plain": [
       "[['srqt', 'tsqr', 'trsq', 'tsrq'],\n",
       " ['vzyxwu', 'yxuvzw'],\n",
       " ['abdcef', 'feacbd', 'efabcd'],\n",
       " ['ijhkg']]"
      ]
     },
     "execution_count": 8,
     "metadata": {},
     "output_type": "execute_result"
    }
   ],
   "source": [
    "partition_anagrams(anagram_list)"
   ]
  },
  {
   "cell_type": "code",
   "execution_count": null,
   "id": "579b37db",
   "metadata": {},
   "outputs": [],
   "source": []
  }
 ],
 "metadata": {
  "kernelspec": {
   "display_name": "Python 3 (ipykernel)",
   "language": "python",
   "name": "python3"
  },
  "language_info": {
   "codemirror_mode": {
    "name": "ipython",
    "version": 3
   },
   "file_extension": ".py",
   "mimetype": "text/x-python",
   "name": "python",
   "nbconvert_exporter": "python",
   "pygments_lexer": "ipython3",
   "version": "3.9.7"
  }
 },
 "nbformat": 4,
 "nbformat_minor": 5
}
