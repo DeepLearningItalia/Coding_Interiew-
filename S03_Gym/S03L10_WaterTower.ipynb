{
 "cells": [
  {
   "cell_type": "code",
   "execution_count": null,
   "id": "8f50f609",
   "metadata": {},
   "outputs": [],
   "source": [
    "%autosave 0"
   ]
  },
  {
   "cell_type": "raw",
   "id": "0d162db4",
   "metadata": {},
   "source": [
    "Given a m*n matrix of positive ints, the value of each point in the matrix is the height of that point. \n",
    "Assume that there are K given villages in the matrix that need water.\n",
    "Assume a water tower can be built anywhere, but the water can only flow from high to low or equal to equal.\n",
    "Find a point to build a single water supply tower so that the maximum number of villages can be reached."
   ]
  },
  {
   "cell_type": "code",
   "execution_count": null,
   "id": "937ee78b",
   "metadata": {},
   "outputs": [],
   "source": [
    "import numpy as np\n",
    "import matplotlib.pyplot as plt\n",
    "import matplotlib"
   ]
  },
  {
   "cell_type": "code",
   "execution_count": null,
   "id": "218709ef",
   "metadata": {},
   "outputs": [],
   "source": [
    "nrows,ncols,nvillages = 5,8,3\n",
    "land = np.random.randint(0,4,(nrows,ncols))\n",
    "villages = [[np.random.randint(nrows),np.random.randint(ncols)]\\\n",
    "                                        for _ in range(nvillages)]\n",
    "plt.matshow(land,cmap='Reds')\n",
    "for vx,vy in villages:\n",
    "    plt.text(vy-.2,vx+.2,'X',fontsize=20)"
   ]
  },
  {
   "cell_type": "code",
   "execution_count": null,
   "id": "5e34775a",
   "metadata": {},
   "outputs": [],
   "source": [
    "def compute_basin(land,reaching,r,c):\n",
    "    nr,nc = land.shape\n",
    "    reaching[r,c]=True\n",
    "    if r>0 and land[r-1,c]>=land[r,c] and not reaching[r-1,c]:\n",
    "        compute_basin(land,reaching,r-1,c)\n",
    "    if r<nr-1 and land[r+1,c]>=land[r,c] and not reaching[r+1,c]:\n",
    "        compute_basin(land,reaching,r+1,c)\n",
    "    if c>0 and land[r,c-1]>=land[r,c] and not reaching[r,c-1]:\n",
    "        compute_basin(land,reaching,r,c-1)\n",
    "    if c<nc-1 and land[r,c+1]>=land[r,c] and not reaching[r,c+1]:\n",
    "        compute_basin(land,reaching,r,c+1)"
   ]
  },
  {
   "cell_type": "code",
   "execution_count": null,
   "id": "7b5c6196",
   "metadata": {},
   "outputs": [],
   "source": [
    "basins = np.zeros((nvillages,nrows,ncols),dtype=bool)\n",
    "for k,(vx,vy) in enumerate(villages):\n",
    "    compute_basin(land,basins[k],vx,vy)"
   ]
  },
  {
   "cell_type": "code",
   "execution_count": null,
   "id": "5e94a28e",
   "metadata": {},
   "outputs": [],
   "source": [
    "plt.figure(figsize=(10,3*nvillages))\n",
    "for indv,v in enumerate(villages):\n",
    "    plt.subplot(nvillages,2,indv*2+1)\n",
    "    plt.imshow(land,cmap='Reds')\n",
    "    plt.text(v[1]-.2,v[0]+.2,'X',fontsize=20)\n",
    "    plt.subplot(nvillages,2,indv*2+2)\n",
    "    plt.imshow(basins[indv],cmap='Blues')\n",
    "plt.tight_layout()"
   ]
  },
  {
   "cell_type": "code",
   "execution_count": null,
   "id": "d3f25a5e",
   "metadata": {},
   "outputs": [],
   "source": [
    "np.sum(basins,axis=0)"
   ]
  },
  {
   "cell_type": "code",
   "execution_count": null,
   "id": "e7deae5a",
   "metadata": {},
   "outputs": [],
   "source": [
    "max_villages = np.max(np.sum(basins,axis=0))\n",
    "max_villages"
   ]
  },
  {
   "cell_type": "code",
   "execution_count": null,
   "id": "6a7ddd56",
   "metadata": {},
   "outputs": [],
   "source": [
    "candidates = np.array(np.where(np.sum(basins,axis=0)==max_villages)).T\n",
    "candidates"
   ]
  },
  {
   "cell_type": "code",
   "execution_count": null,
   "id": "e11365cf",
   "metadata": {},
   "outputs": [],
   "source": [
    "water_tower = candidates[np.random.choice(len(candidates))]\n",
    "water_tower"
   ]
  },
  {
   "cell_type": "code",
   "execution_count": null,
   "id": "df418bf7",
   "metadata": {},
   "outputs": [],
   "source": [
    "def water_tower(land,villages):\n",
    "    nvillages = len(villages)\n",
    "    nrows,ncols = land.shape\n",
    "    basins = np.zeros((nvillages,nrows,ncols),dtype=bool)\n",
    "    for k,(vx,vy) in enumerate(villages):\n",
    "        compute_basin(land,basins[k],vx,vy)\n",
    "    max_villages = np.max(np.sum(basins,axis=0))\n",
    "    candidates = np.array(np.where(np.sum(basins,axis=0)==max_villages)).T\n",
    "    return candidates[np.random.choice(len(candidates))],max_villages"
   ]
  },
  {
   "cell_type": "code",
   "execution_count": null,
   "id": "b23eac91",
   "metadata": {},
   "outputs": [],
   "source": [
    "water_tower(land,villages)"
   ]
  },
  {
   "cell_type": "code",
   "execution_count": null,
   "id": "beac783b",
   "metadata": {},
   "outputs": [],
   "source": []
  }
 ],
 "metadata": {
  "kernelspec": {
   "display_name": "Python 3 (ipykernel)",
   "language": "python",
   "name": "python3"
  },
  "language_info": {
   "codemirror_mode": {
    "name": "ipython",
    "version": 3
   },
   "file_extension": ".py",
   "mimetype": "text/x-python",
   "name": "python",
   "nbconvert_exporter": "python",
   "pygments_lexer": "ipython3",
   "version": "3.9.7"
  }
 },
 "nbformat": 4,
 "nbformat_minor": 5
}
