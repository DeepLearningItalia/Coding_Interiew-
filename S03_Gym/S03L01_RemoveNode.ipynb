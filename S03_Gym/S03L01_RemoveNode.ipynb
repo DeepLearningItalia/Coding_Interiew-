{
 "cells": [
  {
   "cell_type": "raw",
   "id": "f120d72d",
   "metadata": {},
   "source": [
    "Given the head of a linked list, remove the nth node from the end of the list"
   ]
  },
  {
   "cell_type": "code",
   "execution_count": 5,
   "id": "8abdc011",
   "metadata": {},
   "outputs": [],
   "source": [
    "class LLNode():\n",
    "    def __init__(self,val):\n",
    "        self.next = None\n",
    "        self.val = val\n",
    "        \n",
    "def print_llist(root,num_steps):\n",
    "    iterator = root\n",
    "    for _ in range(num_steps):\n",
    "        print(iterator.val,end=' ')\n",
    "        if iterator.next is not None:\n",
    "            iterator = iterator.next\n",
    "        else:\n",
    "            break\n",
    "    print()\n",
    "    \n",
    "def make_list(num_nodes):\n",
    "    root = LLNode(0)\n",
    "    iterator = root\n",
    "    for i in range(1,num_nodes):\n",
    "        new_node = LLNode(i)\n",
    "        iterator.next = new_node\n",
    "        iterator = iterator.next\n",
    "    return root"
   ]
  },
  {
   "cell_type": "code",
   "execution_count": 6,
   "id": "6d4e9a5e",
   "metadata": {},
   "outputs": [
    {
     "name": "stdout",
     "output_type": "stream",
     "text": [
      "0 1 2 3 4 5 6 7 8 9 10 11 12 13 14 15 16 17 18 19 \n"
     ]
    }
   ],
   "source": [
    "root = make_list(20)\n",
    "print_llist(root,100)"
   ]
  },
  {
   "cell_type": "code",
   "execution_count": 7,
   "id": "ff58db20",
   "metadata": {},
   "outputs": [],
   "source": [
    "def remove_nth_from_end(root,k):\n",
    "    fast,slow = root,root\n",
    "    for _ in range(k+1):\n",
    "        if fast.next is None:\n",
    "            return root\n",
    "        else:\n",
    "            fast = fast.next\n",
    "    while True:\n",
    "        if fast.next is None:\n",
    "            slow.next = slow.next.next\n",
    "            return root\n",
    "        else:\n",
    "            fast = fast.next\n",
    "            slow = slow.next"
   ]
  },
  {
   "cell_type": "code",
   "execution_count": 15,
   "id": "762e5e1b",
   "metadata": {},
   "outputs": [
    {
     "name": "stdout",
     "output_type": "stream",
     "text": [
      "0 1 2 3 4 5 6 7 8 9 10 11 12 13 14 15 16 17 18 19 \n",
      "0 1 2 3 4 5 6 7 8 9 10 11 12 13 14 16 17 18 19 \n"
     ]
    }
   ],
   "source": [
    "root = make_list(20)\n",
    "print_llist(root,100)\n",
    "#\n",
    "root = remove_nth_from_end(root,4)\n",
    "print_llist(root,100)"
   ]
  },
  {
   "cell_type": "code",
   "execution_count": null,
   "id": "d9445985",
   "metadata": {},
   "outputs": [],
   "source": []
  }
 ],
 "metadata": {
  "kernelspec": {
   "display_name": "Python 3 (ipykernel)",
   "language": "python",
   "name": "python3"
  },
  "language_info": {
   "codemirror_mode": {
    "name": "ipython",
    "version": 3
   },
   "file_extension": ".py",
   "mimetype": "text/x-python",
   "name": "python",
   "nbconvert_exporter": "python",
   "pygments_lexer": "ipython3",
   "version": "3.9.7"
  }
 },
 "nbformat": 4,
 "nbformat_minor": 5
}
