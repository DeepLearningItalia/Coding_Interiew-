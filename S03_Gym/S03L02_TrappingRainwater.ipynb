{
 "cells": [
  {
   "cell_type": "raw",
   "id": "d432b1bb",
   "metadata": {},
   "source": [
    "Given n non-negative integers representing an elevation map where the width of each bar is 1, \n",
    "compute how much water it can trap after raining."
   ]
  },
  {
   "cell_type": "code",
   "execution_count": 3,
   "id": "9e04bb7a",
   "metadata": {},
   "outputs": [],
   "source": [
    "import matplotlib.pyplot as plt\n",
    "import numpy as np"
   ]
  },
  {
   "cell_type": "code",
   "execution_count": 4,
   "id": "616d7b6e",
   "metadata": {},
   "outputs": [],
   "source": [
    "def trap_rainwater(elevations):\n",
    "    nstep = len(elevations)\n",
    "    left = [0]*nstep\n",
    "    left[0] = elevations[0]\n",
    "    for i in range(1,nstep):\n",
    "        left[i] = max(left[i-1],elevations[i])\n",
    "    right = [0]*nstep\n",
    "    right[-1] = elevations[-1]\n",
    "    for i in range(-2,-(nstep+1),-1):\n",
    "        right[i] = max(right[i+1],elevations[i])\n",
    "    water = [0]*nstep\n",
    "    for i in range(nstep):\n",
    "        water[i] = min(left[i],right[i])-elevations[i]\n",
    "    return sum(water),water"
   ]
  },
  {
   "cell_type": "code",
   "execution_count": 8,
   "id": "2480b457",
   "metadata": {},
   "outputs": [
    {
     "data": {
      "image/png": "[encoded data removed]",
      "text/plain": [
       "<Figure size 1296x216 with 1 Axes>"
      ]
     },
     "metadata": {
      "needs_background": "light"
     },
     "output_type": "display_data"
    }
   ],
   "source": [
    "plt.figure(figsize=(18,3))\n",
    "elevations = np.random.randint(0,5,size=(20))\n",
    "result,levels = trap_rainwater(elevations)\n",
    "plt.bar(range(len(elevations)),elevations,width=1)\n",
    "plt.bar(range(len(elevations)),[x+y for (x,y) in zip(elevations,levels)],\n",
    "        width=1,color='lightblue',zorder=-1)\n",
    "plt.xticks(range(len(elevations)),levels)\n",
    "plt.yticks(range(5),range(5))\n",
    "plt.title('total trapped water: '+str(result));"
   ]
  },
  {
   "cell_type": "code",
   "execution_count": null,
   "id": "db7288c1",
   "metadata": {},
   "outputs": [],
   "source": []
  }
 ],
 "metadata": {
  "kernelspec": {
   "display_name": "Python 3 (ipykernel)",
   "language": "python",
   "name": "python3"
  },
  "language_info": {
   "codemirror_mode": {
    "name": "ipython",
    "version": 3
   },
   "file_extension": ".py",
   "mimetype": "text/x-python",
   "name": "python",
   "nbconvert_exporter": "python",
   "pygments_lexer": "ipython3",
   "version": "3.9.7"
  }
 },
 "nbformat": 4,
 "nbformat_minor": 5
}
