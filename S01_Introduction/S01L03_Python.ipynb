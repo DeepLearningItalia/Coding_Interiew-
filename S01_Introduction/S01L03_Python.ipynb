{
 "cells": [
  {
   "cell_type": "markdown",
   "metadata": {},
   "source": [
    "# Jupyter"
   ]
  },
  {
   "cell_type": "markdown",
   "metadata": {},
   "source": [
    "#cell type, tab, shift-tab, multi-cursor, line begin-end"
   ]
  },
  {
   "cell_type": "markdown",
   "metadata": {},
   "source": [
    "# Lists"
   ]
  },
  {
   "cell_type": "code",
   "execution_count": 65,
   "metadata": {},
   "outputs": [
    {
     "data": {
      "text/plain": [
       "[1, 2, 3, 4, 5, [6], 7, 8, 9]"
      ]
     },
     "execution_count": 65,
     "metadata": {},
     "output_type": "execute_result"
    }
   ],
   "source": [
    "#create, append ++\n",
    "mylist = [1,2,3,4]\n",
    "mylist.append(5)\n",
    "mylist.append([6])\n",
    "mylist.append(7)\n",
    "mylist+=[8]\n",
    "mylist = mylist+[9]\n",
    "mylist"
   ]
  },
  {
   "cell_type": "code",
   "execution_count": 66,
   "metadata": {},
   "outputs": [
    {
     "name": "stdout",
     "output_type": "stream",
     "text": [
      "5\n",
      "[0, 1, 2, 3, 4]\n",
      "[5, 6, 7, 8, 9]\n",
      "[4, 5, 6, 7]\n",
      "9\n",
      "[7, 8, 9]\n",
      "[0, 1, 2, 3, 4, 5, 6]\n",
      "[5, 6]\n"
     ]
    }
   ],
   "source": [
    "#slice\n",
    "mylist = [0,1, 2, 3, 4, 5, 6, 7, 8, 9]\n",
    "print(mylist[5])\n",
    "print(mylist[:5])\n",
    "print(mylist[5:])\n",
    "print(mylist[4:8])\n",
    "print(mylist[-1])\n",
    "print(mylist[-3:])\n",
    "print(mylist[:-3])\n",
    "print(mylist[-5:-3])"
   ]
  },
  {
   "cell_type": "code",
   "execution_count": 67,
   "metadata": {},
   "outputs": [
    {
     "data": {
      "text/plain": [
       "[9, 8, 7, 6, 5, 4, 3, 2, 1, 0]"
      ]
     },
     "execution_count": 67,
     "metadata": {},
     "output_type": "execute_result"
    }
   ],
   "source": [
    "#reverse\n",
    "mylist = [0,1, 2, 3, 4, 5, 6, 7, 8, 9]\n",
    "mylist[::-1]"
   ]
  },
  {
   "cell_type": "code",
   "execution_count": 68,
   "metadata": {},
   "outputs": [
    {
     "data": {
      "text/plain": [
       "[(1, 4), (2, 5)]"
      ]
     },
     "execution_count": 68,
     "metadata": {},
     "output_type": "execute_result"
    }
   ],
   "source": [
    "#zip\n",
    "a = [1,2,3]\n",
    "b = [4,5]\n",
    "list(zip(a,b))"
   ]
  },
  {
   "cell_type": "code",
   "execution_count": 69,
   "metadata": {},
   "outputs": [
    {
     "data": {
      "text/plain": [
       "[0, 1, 2, 3, [4, 5], 6, 7]"
      ]
     },
     "execution_count": 69,
     "metadata": {},
     "output_type": "execute_result"
    }
   ],
   "source": [
    "#flatten\n",
    "mylist = [[0],[1,2],[3,[4,5]],[6,7]]\n",
    "[a for b in mylist for a in b]"
   ]
  },
  {
   "cell_type": "code",
   "execution_count": 70,
   "metadata": {},
   "outputs": [
    {
     "data": {
      "text/plain": [
       "[1, 4, 9]"
      ]
     },
     "execution_count": 70,
     "metadata": {},
     "output_type": "execute_result"
    }
   ],
   "source": [
    "#list comprehension\n",
    "mylist = [1,2,3]\n",
    "[x**2 for x in mylist]"
   ]
  },
  {
   "cell_type": "code",
   "execution_count": 71,
   "metadata": {},
   "outputs": [
    {
     "data": {
      "text/plain": [
       "[4, 16, 36, 64]"
      ]
     },
     "execution_count": 71,
     "metadata": {},
     "output_type": "execute_result"
    }
   ],
   "source": [
    "#list comprehension con condizione\n",
    "mylist = [1,2,3,4,5,6,7,8,9]\n",
    "[x**2 for x in mylist if x%2==0]"
   ]
  },
  {
   "cell_type": "code",
   "execution_count": 72,
   "metadata": {},
   "outputs": [
    {
     "data": {
      "text/plain": [
       "[0, 'dispari', 4, 'dispari', 16, 'dispari', 36]"
      ]
     },
     "execution_count": 72,
     "metadata": {},
     "output_type": "execute_result"
    }
   ],
   "source": [
    "#list comprehension if-then-else\n",
    "mylist = [0,1,2,3,4,5,6,7,8,9]\n",
    "[x**2 if x%2==0 else 'dispari' for x in mylist if x<7]"
   ]
  },
  {
   "cell_type": "code",
   "execution_count": 73,
   "metadata": {},
   "outputs": [
    {
     "name": "stdout",
     "output_type": "stream",
     "text": [
      "[4, 0, 2, 3, 10, 8, 7]\n",
      "[0, 2, 3, 4, 7, 8, 10]\n"
     ]
    }
   ],
   "source": [
    "#sorting() e .sort()\n",
    "mylist = [4,0,2,3,10,8,7]\n",
    "sorted_list = sorted(mylist)\n",
    "print(mylist)\n",
    "print(sorted_list)"
   ]
  },
  {
   "cell_type": "code",
   "execution_count": 74,
   "metadata": {},
   "outputs": [
    {
     "name": "stdout",
     "output_type": "stream",
     "text": [
      "[0, 2, 3, 4, 7, 8, 10]\n",
      "None\n"
     ]
    }
   ],
   "source": [
    "mylist = [4,0,2,3,10,8,7]\n",
    "sorted_list = mylist.sort()\n",
    "print(mylist)\n",
    "print(sorted_list)"
   ]
  },
  {
   "cell_type": "code",
   "execution_count": 75,
   "metadata": {},
   "outputs": [
    {
     "data": {
      "text/plain": [
       "[5, 7, 9, 11, 13, 15, 17, 19]"
      ]
     },
     "execution_count": 75,
     "metadata": {},
     "output_type": "execute_result"
    }
   ],
   "source": [
    "#range\n",
    "list(range(5,20,2))"
   ]
  },
  {
   "cell_type": "code",
   "execution_count": 76,
   "metadata": {},
   "outputs": [
    {
     "name": "stdout",
     "output_type": "stream",
     "text": [
      "aaa\n",
      "aaaa\n",
      "aaaaa\n",
      "aaaaaa\n"
     ]
    }
   ],
   "source": [
    "#basic loop\n",
    "for i in range(3,7):\n",
    "    print('a'*i)"
   ]
  },
  {
   "cell_type": "code",
   "execution_count": 77,
   "metadata": {},
   "outputs": [
    {
     "name": "stdout",
     "output_type": "stream",
     "text": [
      "0 a\n",
      "1 b\n",
      "2 c\n",
      "3 d\n",
      "4 e\n"
     ]
    }
   ],
   "source": [
    "#enumeration\n",
    "for i,e in enumerate('abcde'):\n",
    "    print(i,e)"
   ]
  },
  {
   "cell_type": "code",
   "execution_count": 78,
   "metadata": {},
   "outputs": [
    {
     "name": "stdout",
     "output_type": "stream",
     "text": [
      "0 a\n",
      "1 b\n",
      "2 c\n",
      "3 d\n",
      "4 e\n"
     ]
    }
   ],
   "source": [
    "my_string = 'abcde'\n",
    "for index in range(len(my_string)):\n",
    "    print(index,my_string[index])"
   ]
  },
  {
   "cell_type": "markdown",
   "metadata": {},
   "source": [
    "# Dictionaries"
   ]
  },
  {
   "cell_type": "code",
   "execution_count": 79,
   "metadata": {},
   "outputs": [
    {
     "name": "stdout",
     "output_type": "stream",
     "text": [
      "{1: 'a', 2: 'b'}\n"
     ]
    },
    {
     "data": {
      "text/plain": [
       "'a'"
      ]
     },
     "execution_count": 79,
     "metadata": {},
     "output_type": "execute_result"
    }
   ],
   "source": [
    "#create empty, create from vals, create from lists\n",
    "mydict = {}\n",
    "mydict = {1:'a',2:'b'}\n",
    "print(mydict)\n",
    "mydict[1]"
   ]
  },
  {
   "cell_type": "code",
   "execution_count": 80,
   "metadata": {},
   "outputs": [
    {
     "data": {
      "text/plain": [
       "{1: 'a', 2: 'b', 3: 'd'}"
      ]
     },
     "execution_count": 80,
     "metadata": {},
     "output_type": "execute_result"
    }
   ],
   "source": [
    "#insert, access\n",
    "mydict = {1:'a',2:'b'}\n",
    "mydict[3] = 'c'\n",
    "mydict[3] = 'd'\n",
    "mydict"
   ]
  },
  {
   "cell_type": "code",
   "execution_count": 81,
   "metadata": {},
   "outputs": [
    {
     "data": {
      "text/plain": [
       "'not_found'"
      ]
     },
     "execution_count": 81,
     "metadata": {},
     "output_type": "execute_result"
    }
   ],
   "source": [
    "#default value\n",
    "mydict = {1:'a',2:'b'}\n",
    "mydict.get(3,'not_found')"
   ]
  },
  {
   "cell_type": "code",
   "execution_count": 82,
   "metadata": {},
   "outputs": [
    {
     "data": {
      "text/plain": [
       "{'k': 5, 'j': 2, 'd': 3, 'h': 5, 'f': 1, 'c': 2, 'l': 2, 's': 2, 'e': 1}"
      ]
     },
     "execution_count": 82,
     "metadata": {},
     "output_type": "execute_result"
    }
   ],
   "source": [
    "#esempio di count dictionary\n",
    "my_string = 'kjdhfkdchdkchlksejhlksh'\n",
    "count_dict = {}\n",
    "for letter in my_string:\n",
    "    count_dict[letter]=count_dict.get(letter,0)+1\n",
    "count_dict"
   ]
  },
  {
   "cell_type": "code",
   "execution_count": 83,
   "metadata": {},
   "outputs": [
    {
     "name": "stdout",
     "output_type": "stream",
     "text": [
      "dict_keys(['k', 'j', 'd', 'h', 'f', 'c', 'l', 's', 'e'])\n",
      "dict_values([5, 2, 3, 5, 1, 2, 2, 2, 1])\n",
      "dict_items([('k', 5), ('j', 2), ('d', 3), ('h', 5), ('f', 1), ('c', 2), ('l', 2), ('s', 2), ('e', 1)])\n"
     ]
    }
   ],
   "source": [
    "#keys, items, values\n",
    "print(count_dict.keys())\n",
    "print(count_dict.values())\n",
    "print(count_dict.items())"
   ]
  },
  {
   "cell_type": "code",
   "execution_count": 84,
   "metadata": {},
   "outputs": [
    {
     "data": {
      "text/plain": [
       "{'b': 2, 'c': 4, 'a': 1}"
      ]
     },
     "execution_count": 84,
     "metadata": {},
     "output_type": "execute_result"
    }
   ],
   "source": [
    "# merge dictionaries, overwrite\n",
    "d1 = {'a':1,'b':2}\n",
    "d2 = {'b':3,'c':4}\n",
    "d3 = {**d2, **d1}\n",
    "d3"
   ]
  },
  {
   "cell_type": "code",
   "execution_count": 85,
   "metadata": {},
   "outputs": [
    {
     "data": {
      "text/plain": [
       "{'b': 2, 'c': 4}"
      ]
     },
     "execution_count": 85,
     "metadata": {},
     "output_type": "execute_result"
    }
   ],
   "source": [
    "#delete element\n",
    "del d3['a']\n",
    "d3"
   ]
  },
  {
   "cell_type": "code",
   "execution_count": 64,
   "metadata": {},
   "outputs": [
    {
     "name": "stdout",
     "output_type": "stream",
     "text": [
      "2\n",
      "{'c': 4}\n"
     ]
    }
   ],
   "source": [
    "#pop\n",
    "elem = d3.pop('b')\n",
    "print(elem)\n",
    "print(d3)"
   ]
  },
  {
   "cell_type": "markdown",
   "metadata": {},
   "source": [
    "# Functions"
   ]
  },
  {
   "cell_type": "code",
   "execution_count": null,
   "metadata": {},
   "outputs": [],
   "source": [
    "#definition, calling\n",
    "def my_fun_1(myarg):\n",
    "    print('argomento',myarg)\n",
    "    return None\n",
    "\n",
    "my_fun_1(1234)"
   ]
  },
  {
   "cell_type": "code",
   "execution_count": null,
   "metadata": {},
   "outputs": [],
   "source": [
    "#default arguments\n",
    "def my_fun_2(myarg=9):\n",
    "    print('argomento',myarg)\n",
    "    return None\n",
    "\n",
    "my_fun_2()"
   ]
  },
  {
   "cell_type": "markdown",
   "metadata": {},
   "source": [
    "# Numpy"
   ]
  },
  {
   "cell_type": "code",
   "execution_count": 86,
   "metadata": {},
   "outputs": [],
   "source": [
    "import numpy as np"
   ]
  },
  {
   "cell_type": "code",
   "execution_count": 87,
   "metadata": {},
   "outputs": [
    {
     "name": "stdout",
     "output_type": "stream",
     "text": [
      "[1, 2, 3, 4] <class 'list'>\n",
      "[1 2 3 4] <class 'numpy.ndarray'>\n"
     ]
    }
   ],
   "source": [
    "#creation of numpy array\n",
    "my_list = [1,2,3,4]\n",
    "my_array = np.array(my_list)\n",
    "print(my_list,type(my_list))\n",
    "print(my_array,type(my_array))"
   ]
  },
  {
   "cell_type": "code",
   "execution_count": 89,
   "metadata": {},
   "outputs": [
    {
     "name": "stdout",
     "output_type": "stream",
     "text": [
      "list [1, 2, 3] [4, 5, 6] [1, 2, 3, 4, 5, 6]\n",
      "np.array [1 2 3] [4 5 6] [5 7 9]\n"
     ]
    }
   ],
   "source": [
    "#semantica del +\n",
    "a = [1,2,3]\n",
    "b = [4,5,6]\n",
    "print('list',a,b,a+b)\n",
    "npa = np.array(a)\n",
    "npb = np.array(b)\n",
    "print('np.array',npa,npb,npa+npb)"
   ]
  },
  {
   "cell_type": "code",
   "execution_count": 91,
   "metadata": {},
   "outputs": [
    {
     "data": {
      "text/plain": [
       "array([10, 20, 30])"
      ]
     },
     "execution_count": 91,
     "metadata": {},
     "output_type": "execute_result"
    }
   ],
   "source": [
    "#element-wise ops e broadcasting\n",
    "my_array = np.array([1,2,3])\n",
    "my_array*10"
   ]
  },
  {
   "cell_type": "code",
   "execution_count": 95,
   "metadata": {},
   "outputs": [
    {
     "name": "stdout",
     "output_type": "stream",
     "text": [
      "[1 2 3 4 5 6 7 8]\n"
     ]
    },
    {
     "data": {
      "text/plain": [
       "array([2, 4, 6, 8])"
      ]
     },
     "execution_count": 95,
     "metadata": {},
     "output_type": "execute_result"
    }
   ],
   "source": [
    "#masking\n",
    "my_array = np.array([1,2,3,4,5,6,7,8])\n",
    "print(my_array)\n",
    "my_array[my_array%2==0]"
   ]
  },
  {
   "cell_type": "code",
   "execution_count": 103,
   "metadata": {},
   "outputs": [
    {
     "name": "stdout",
     "output_type": "stream",
     "text": [
      "[ 0  1  2  3  4  5  6  7  8  9 10 11]\n"
     ]
    }
   ],
   "source": [
    "#zeros, shape\n",
    "my_array = np.array(range(12))\n",
    "print(my_array)"
   ]
  },
  {
   "cell_type": "code",
   "execution_count": 104,
   "metadata": {},
   "outputs": [
    {
     "data": {
      "text/plain": [
       "(12,)"
      ]
     },
     "execution_count": 104,
     "metadata": {},
     "output_type": "execute_result"
    }
   ],
   "source": [
    "my_array.shape"
   ]
  },
  {
   "cell_type": "code",
   "execution_count": 105,
   "metadata": {},
   "outputs": [
    {
     "data": {
      "text/plain": [
       "array([[ 0,  1,  2,  3],\n",
       "       [ 4,  5,  6,  7],\n",
       "       [ 8,  9, 10, 11]])"
      ]
     },
     "execution_count": 105,
     "metadata": {},
     "output_type": "execute_result"
    }
   ],
   "source": [
    "np.reshape(my_array,(3,4))"
   ]
  },
  {
   "cell_type": "code",
   "execution_count": 107,
   "metadata": {},
   "outputs": [
    {
     "data": {
      "text/plain": [
       "array([[ 0,  1,  2,  3],\n",
       "       [ 4,  5,  6,  7],\n",
       "       [ 8,  9, 10, 11]])"
      ]
     },
     "execution_count": 107,
     "metadata": {},
     "output_type": "execute_result"
    }
   ],
   "source": [
    "np.reshape(my_array,(3,-1))"
   ]
  },
  {
   "cell_type": "code",
   "execution_count": null,
   "metadata": {},
   "outputs": [],
   "source": []
  }
 ],
 "metadata": {
  "kernelspec": {
   "display_name": "Python 3 (ipykernel)",
   "language": "python",
   "name": "python3"
  },
  "language_info": {
   "codemirror_mode": {
    "name": "ipython",
    "version": 3
   },
   "file_extension": ".py",
   "mimetype": "text/x-python",
   "name": "python",
   "nbconvert_exporter": "python",
   "pygments_lexer": "ipython3",
   "version": "3.9.7"
  }
 },
 "nbformat": 4,
 "nbformat_minor": 2
}
