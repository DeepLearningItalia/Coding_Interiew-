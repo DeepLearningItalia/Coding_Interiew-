{
 "cells": [
  {
   "cell_type": "code",
   "execution_count": 2,
   "id": "b0bc5950",
   "metadata": {},
   "outputs": [],
   "source": [
    "import numpy as np\n",
    "import matplotlib\n",
    "import matplotlib.pyplot as plt\n",
    "import time"
   ]
  },
  {
   "cell_type": "markdown",
   "id": "87cc6df5",
   "metadata": {},
   "source": [
    "# S02L01 Strings and Arrays"
   ]
  },
  {
   "cell_type": "raw",
   "id": "f6430d2d",
   "metadata": {},
   "source": [
    "Write a function that checks if a string is palindrome"
   ]
  },
  {
   "cell_type": "code",
   "execution_count": 3,
   "id": "d90de480",
   "metadata": {},
   "outputs": [],
   "source": [
    "def is_palindrome(s):\n",
    "    lo,hi = 0,len(s)-1\n",
    "    while lo<hi:\n",
    "        if s[lo]!=s[hi]:\n",
    "            return False\n",
    "        else:\n",
    "            lo,hi=lo+1,hi-1\n",
    "    return True"
   ]
  },
  {
   "cell_type": "code",
   "execution_count": 5,
   "id": "772ecea9",
   "metadata": {},
   "outputs": [
    {
     "name": "stdout",
     "output_type": "stream",
     "text": [
      "'abcba' is palindrome? True\n",
      "'abccba' is palindrome? True\n",
      "'abc' is palindrome? False\n",
      "'abca' is palindrome? False\n",
      "'a' is palindrome? True\n",
      "'' is palindrome? True\n"
     ]
    }
   ],
   "source": [
    "for s in ['abcba','abccba','abc','abca','a','']:\n",
    "    print('\\''+s+'\\'','is palindrome?',is_palindrome(s))"
   ]
  },
  {
   "cell_type": "markdown",
   "id": "3b456aa4",
   "metadata": {},
   "source": [
    "# S02L02 Matrices"
   ]
  },
  {
   "cell_type": "raw",
   "id": "5d23c5e1",
   "metadata": {},
   "source": [
    "Write a function that, given a matrix, finds all zeros. \n",
    "For each zero, all elements in the same row and column must be set to zero."
   ]
  },
  {
   "cell_type": "code",
   "execution_count": 6,
   "id": "0f6498da",
   "metadata": {},
   "outputs": [],
   "source": [
    "def nullify_rows_cols(m):\n",
    "    r,c = m.shape\n",
    "    null_rows = np.zeros(r,dtype=bool)\n",
    "    null_cols = np.zeros(c,dtype=bool)\n",
    "    for i in range(r):\n",
    "        for j in range(c):\n",
    "            if m[i,j]==0:\n",
    "                null_rows[i]=True\n",
    "                null_cols[j]=True\n",
    "    for i in range(r):\n",
    "        for j in range(c):\n",
    "            if null_rows[i] or null_cols[j]:\n",
    "                m[i,j]=0\n",
    "    return m"
   ]
  },
  {
   "cell_type": "code",
   "execution_count": 7,
   "id": "6514a926",
   "metadata": {},
   "outputs": [
    {
     "data": {
      "text/plain": [
       "array([[ 1,  2,  3,  4,  0],\n",
       "       [ 6,  7,  8,  9, 10],\n",
       "       [11, 12, 13, 14,  0],\n",
       "       [16, 17, 18, 19, 20]])"
      ]
     },
     "execution_count": 7,
     "metadata": {},
     "output_type": "execute_result"
    }
   ],
   "source": [
    "m = np.reshape(range(1,21),(4,5))\n",
    "m[0,4]=0\n",
    "m[2,4]=0\n",
    "m"
   ]
  },
  {
   "cell_type": "code",
   "execution_count": 6,
   "id": "a5744e85",
   "metadata": {},
   "outputs": [
    {
     "data": {
      "text/plain": [
       "array([[ 0,  0,  0,  0,  0],\n",
       "       [ 6,  7,  8,  9,  0],\n",
       "       [ 0,  0,  0,  0,  0],\n",
       "       [16, 17, 18, 19,  0]])"
      ]
     },
     "execution_count": 6,
     "metadata": {},
     "output_type": "execute_result"
    }
   ],
   "source": [
    "nullify_rows_cols(m)"
   ]
  },
  {
   "cell_type": "markdown",
   "id": "b423baea",
   "metadata": {},
   "source": [
    "# S02L03 Dictionaries"
   ]
  },
  {
   "cell_type": "raw",
   "id": "009c9a97",
   "metadata": {},
   "source": [
    "Check if the two strings have identical character counts."
   ]
  },
  {
   "cell_type": "code",
   "execution_count": 7,
   "id": "7135e2ab",
   "metadata": {},
   "outputs": [],
   "source": [
    "def same_char_count(s1,s2):\n",
    "    char_count = {}\n",
    "    for c in s1:\n",
    "        char_count[c] = char_count.get(c,0)+1\n",
    "    for c in s2:\n",
    "        char_count[c] = char_count.get(c,0)-1\n",
    "    return set(char_count.values())=={0}"
   ]
  },
  {
   "cell_type": "code",
   "execution_count": 8,
   "id": "93e108fa",
   "metadata": {},
   "outputs": [
    {
     "name": "stdout",
     "output_type": "stream",
     "text": [
      "abababac abababac True\n",
      "abababac caaabbbac False\n",
      "abababac aaaabbbc True\n",
      "caaabbbac abababac False\n",
      "caaabbbac caaabbbac True\n",
      "caaabbbac aaaabbbc False\n",
      "aaaabbbc abababac True\n",
      "aaaabbbc caaabbbac False\n",
      "aaaabbbc aaaabbbc True\n"
     ]
    }
   ],
   "source": [
    "s1 = 'abababac'\n",
    "s2 = 'caaabbbac'\n",
    "s3 = 'aaaabbbc'\n",
    "for si in [s1,s2,s3]:\n",
    "    for sj in [s1,s2,s3]:\n",
    "        print(si,sj,same_char_count(si,sj))"
   ]
  },
  {
   "cell_type": "markdown",
   "id": "cc443185",
   "metadata": {},
   "source": [
    "# S02L04 Linked Lists"
   ]
  },
  {
   "cell_type": "raw",
   "id": "21fddf40",
   "metadata": {},
   "source": [
    "Given a linked list, write a method to determine whether there's a cycle"
   ]
  },
  {
   "cell_type": "code",
   "execution_count": 9,
   "id": "36676887",
   "metadata": {},
   "outputs": [],
   "source": [
    "class LLNode():\n",
    "    def __init__(self,val):\n",
    "        self.next = None\n",
    "        self.val = val\n",
    "        \n",
    "def print_llist(root,num_steps):\n",
    "    iterator = root\n",
    "    for _ in range(num_steps):\n",
    "        print(iterator.val,end=' ')\n",
    "        if iterator.next is not None:\n",
    "            iterator = iterator.next\n",
    "        else:\n",
    "            break\n",
    "    print()"
   ]
  },
  {
   "cell_type": "code",
   "execution_count": 10,
   "id": "8e54bc75",
   "metadata": {},
   "outputs": [],
   "source": [
    "def check_for_loop(root):\n",
    "    slow,fast=root,root\n",
    "    while True:\n",
    "        if fast.next is None or fast.next.next is None:\n",
    "            return False\n",
    "        slow = slow.next\n",
    "        fast = fast.next.next\n",
    "        if slow==fast:\n",
    "            return True"
   ]
  },
  {
   "cell_type": "code",
   "execution_count": 11,
   "id": "92b12f17",
   "metadata": {},
   "outputs": [
    {
     "name": "stdout",
     "output_type": "stream",
     "text": [
      "0 1 2 3 4 5 \n",
      "Is there a loop? False\n"
     ]
    }
   ],
   "source": [
    "root_no_loop = LLNode(0)\n",
    "iterator = root_no_loop\n",
    "for i in range(1,6):\n",
    "    new_node = LLNode(i)\n",
    "    iterator.next = new_node\n",
    "    iterator = iterator.next\n",
    "#\n",
    "print_llist(root_no_loop,30)\n",
    "#\n",
    "print('Is there a loop?',check_for_loop(root_no_loop))"
   ]
  },
  {
   "cell_type": "code",
   "execution_count": 12,
   "id": "cf08b84a",
   "metadata": {},
   "outputs": [
    {
     "name": "stdout",
     "output_type": "stream",
     "text": [
      "0 1 2 3 4 5 3 4 5 3 4 5 3 4 5 3 4 5 3 4 5 3 4 5 3 4 5 3 4 5 \n",
      "is there a loop? True\n"
     ]
    }
   ],
   "source": [
    "root_loop = LLNode(0)\n",
    "iterator = root_loop\n",
    "for i in range(1,6):\n",
    "    new_node = LLNode(i)\n",
    "    iterator.next = new_node\n",
    "    iterator = iterator.next\n",
    "iterator.next = root_loop.next.next.next\n",
    "#\n",
    "print_llist(root_loop,30)\n",
    "#\n",
    "print('is there a loop?',check_for_loop(root_loop))"
   ]
  },
  {
   "cell_type": "markdown",
   "id": "bb4a4f8b",
   "metadata": {},
   "source": [
    "# S02L05 Recursion"
   ]
  },
  {
   "cell_type": "markdown",
   "id": "fe9d27fd",
   "metadata": {},
   "source": [
    "Write a method that implements the 'paint fill' in a matrix representing an image.                             \n",
    "That is, given a matrix, a new color value and a couple of coordinates (x,y),              \n",
    "matrix[x,y] and all adjacent cells with the same color/value must be filled with the new color value. "
   ]
  },
  {
   "cell_type": "code",
   "execution_count": 13,
   "id": "6061ec3d",
   "metadata": {},
   "outputs": [],
   "source": [
    "def paint_fill(matrix,r,c,new_col,prev_col):\n",
    "    matrix[r,c] = new_col\n",
    "    if r>0 and matrix[r-1,c] == prev_col:\n",
    "        paint_fill(matrix,r-1,c,new_col,prev_col)\n",
    "    if r<matrix.shape[0]-1 and matrix[r+1,c] == prev_col:\n",
    "        paint_fill(matrix,r+1,c,new_col,prev_col)\n",
    "    if c>0 and matrix[r,c-1] == prev_col:\n",
    "        paint_fill(matrix,r,c-1,new_col,prev_col)\n",
    "    if c<matrix.shape[1]-1 and matrix[r,c+1] == prev_col:\n",
    "        paint_fill(matrix,r,c+1,new_col,prev_col)"
   ]
  },
  {
   "cell_type": "code",
   "execution_count": 14,
   "id": "526c39df",
   "metadata": {},
   "outputs": [],
   "source": [
    "cmap = matplotlib.colors.ListedColormap(['white','orangered','dodgerblue','limegreen'])"
   ]
  },
  {
   "cell_type": "code",
   "execution_count": 15,
   "id": "b5abf8e5",
   "metadata": {},
   "outputs": [
    {
     "data": {
      "image/png": "[encoded data removed]",
      "text/plain": [
       "<Figure size 460.8x288 with 1 Axes>"
      ]
     },
     "metadata": {
      "needs_background": "light"
     },
     "output_type": "display_data"
    }
   ],
   "source": [
    "matrix = np.random.choice([1,2,3],(5,8))\n",
    "plt.matshow(matrix,cmap=cmap,vmin=0,vmax=3);"
   ]
  },
  {
   "cell_type": "code",
   "execution_count": 16,
   "id": "51a1b8f8",
   "metadata": {},
   "outputs": [
    {
     "data": {
      "image/png": "[encoded data removed]",
      "text/plain": [
       "<Figure size 460.8x288 with 1 Axes>"
      ]
     },
     "metadata": {
      "needs_background": "light"
     },
     "output_type": "display_data"
    }
   ],
   "source": [
    "start_row = np.random.randint(matrix.shape[0])\n",
    "start_col = np.random.randint(matrix.shape[1])\n",
    "previous_color = matrix[start_row,start_col]\n",
    "matrix[start_row,start_col]=0\n",
    "plt.matshow(matrix,cmap=cmap,vmin=0,vmax=3);"
   ]
  },
  {
   "cell_type": "code",
   "execution_count": 17,
   "id": "1e3987d8",
   "metadata": {},
   "outputs": [
    {
     "data": {
      "image/png": "[encoded data removed]",
      "text/plain": [
       "<Figure size 460.8x288 with 1 Axes>"
      ]
     },
     "metadata": {
      "needs_background": "light"
     },
     "output_type": "display_data"
    }
   ],
   "source": [
    "paint_fill(matrix,start_row,start_col,0,previous_color)\n",
    "plt.matshow(matrix,cmap=cmap,vmin=0,vmax=3);"
   ]
  },
  {
   "cell_type": "markdown",
   "id": "bc7e4e12",
   "metadata": {},
   "source": [
    "# S02L06 Fibonacci"
   ]
  },
  {
   "cell_type": "code",
   "execution_count": 18,
   "id": "469c1134",
   "metadata": {},
   "outputs": [],
   "source": [
    "def fibonacci_iterativo(n):\n",
    "    if n<2:\n",
    "        return n\n",
    "    else:\n",
    "        lo,hi = 0,1\n",
    "        for _ in range(n):\n",
    "            lo,hi = hi,lo+hi\n",
    "        return lo"
   ]
  },
  {
   "cell_type": "code",
   "execution_count": 19,
   "id": "7aefcea9",
   "metadata": {},
   "outputs": [],
   "source": [
    "def fibonacci_ricorsivo(n):\n",
    "    if n<2:\n",
    "        return n\n",
    "    else:\n",
    "        return fibonacci_ricorsivo(n-2)+fibonacci_ricorsivo(n-1)"
   ]
  },
  {
   "cell_type": "code",
   "execution_count": 20,
   "id": "2372a437",
   "metadata": {},
   "outputs": [
    {
     "name": "stdout",
     "output_type": "stream",
     "text": [
      "[0, 1, 1, 2, 3, 5, 8, 13, 21, 34]\n",
      "[0, 1, 1, 2, 3, 5, 8, 13, 21, 34]\n"
     ]
    }
   ],
   "source": [
    "print([fibonacci_iterativo(i) for i in range(10)])\n",
    "print([fibonacci_ricorsivo(i) for i in range(10)])"
   ]
  },
  {
   "cell_type": "code",
   "execution_count": 21,
   "id": "dcee7b72",
   "metadata": {},
   "outputs": [
    {
     "name": "stdout",
     "output_type": "stream",
     "text": [
      "0 \t 0.0 \t 0.0\n",
      "1 \t 0.0 \t 0.0\n",
      "2 \t 0.0 \t 0.0\n",
      "3 \t 0.0 \t 0.0\n",
      "4 \t 0.0 \t 0.0\n",
      "5 \t 0.0 \t 0.0\n",
      "6 \t 0.0 \t 0.0\n",
      "7 \t 0.0 \t 0.0\n",
      "8 \t 0.0 \t 0.0\n",
      "9 \t 0.0 \t 0.0\n",
      "10 \t 0.0 \t 0.0\n",
      "11 \t 0.0 \t 0.0\n",
      "12 \t 0.0 \t 0.0\n",
      "13 \t 0.0 \t 0.0\n",
      "14 \t 0.0 \t 0.0\n",
      "15 \t 0.0 \t 0.0\n",
      "16 \t 0.0 \t 0.0\n",
      "17 \t 0.0 \t 0.0\n",
      "18 \t 0.0 \t 0.001\n",
      "19 \t 0.0 \t 0.001\n",
      "20 \t 0.0 \t 0.002\n",
      "21 \t 0.0 \t 0.003\n",
      "22 \t 0.0 \t 0.005\n",
      "23 \t 0.0 \t 0.007\n",
      "24 \t 0.0 \t 0.012\n",
      "25 \t 0.0 \t 0.019\n",
      "26 \t 0.0 \t 0.031\n",
      "27 \t 0.0 \t 0.05\n",
      "28 \t 0.0 \t 0.08\n",
      "29 \t 0.0 \t 0.132\n",
      "30 \t 0.0 \t 0.214\n",
      "31 \t 0.0 \t 0.345\n",
      "32 \t 0.0 \t 0.55\n",
      "33 \t 0.0 \t 0.899\n",
      "34 \t 0.0 \t 1.448\n",
      "35 \t 0.0 \t 2.353\n",
      "36 \t 0.0 \t 3.823\n",
      "37 \t 0.0 \t 6.146\n",
      "38 \t 0.0 \t 9.936\n",
      "39 \t 0.0 \t 16.125\n"
     ]
    }
   ],
   "source": [
    "for i in range(40):\n",
    "    start = time.time()\n",
    "    fibonacci_iterativo(i)\n",
    "    time_iter = np.round(time.time()-start,3)\n",
    "    start = time.time()\n",
    "    fibonacci_ricorsivo(i)\n",
    "    time_rec = np.round(time.time()-start,3)\n",
    "    print(i,'\\t',time_iter,'\\t',time_rec)"
   ]
  },
  {
   "cell_type": "code",
   "execution_count": 22,
   "id": "5e4bb82b",
   "metadata": {},
   "outputs": [],
   "source": [
    "#fibonacci_ricorsivo(67)  >100 years.."
   ]
  },
  {
   "cell_type": "code",
   "execution_count": 23,
   "id": "d127c87c",
   "metadata": {},
   "outputs": [
    {
     "data": {
      "text/plain": [
       "44945570212853"
      ]
     },
     "execution_count": 23,
     "metadata": {},
     "output_type": "execute_result"
    }
   ],
   "source": [
    "fibonacci_iterativo(67)"
   ]
  },
  {
   "cell_type": "markdown",
   "id": "1ff1a57a",
   "metadata": {},
   "source": [
    "# S02L07 Trees"
   ]
  },
  {
   "cell_type": "raw",
   "id": "e835cc80",
   "metadata": {},
   "source": [
    "Write a function that returns the lowest common ancestor of two nodes in a binary search tree.\n",
    "Assume both nodes are in the tree"
   ]
  },
  {
   "cell_type": "code",
   "execution_count": 25,
   "id": "b5f73b60",
   "metadata": {},
   "outputs": [],
   "source": [
    "class TreeNode():\n",
    "    def __init__(self,val):\n",
    "        self.val = val\n",
    "        self.left = None\n",
    "        self.right = None"
   ]
  },
  {
   "cell_type": "code",
   "execution_count": 26,
   "id": "47cd596d",
   "metadata": {},
   "outputs": [],
   "source": [
    "def find_lca(root,n1,n2):\n",
    "    if root.val>n1 and root.val>n2:\n",
    "        return find_lca(root.left,n1,n2)\n",
    "    elif root.val<n1 and root.val<n2:\n",
    "        return find_lca(root.right,n1,n2)\n",
    "    else:\n",
    "        return root.val"
   ]
  },
  {
   "cell_type": "code",
   "execution_count": 27,
   "id": "13fdaf4c",
   "metadata": {},
   "outputs": [],
   "source": [
    "root = TreeNode(10)\n",
    "root.left = TreeNode(5)\n",
    "root.right = TreeNode(15)\n",
    "root.left.left = TreeNode(2)\n",
    "root.left.right = TreeNode(8)\n",
    "root.right.left = TreeNode(12)\n",
    "root.right.right = TreeNode(18)"
   ]
  },
  {
   "cell_type": "code",
   "execution_count": 28,
   "id": "a55ff862",
   "metadata": {},
   "outputs": [
    {
     "name": "stdout",
     "output_type": "stream",
     "text": [
      "\t    10\n",
      "    5\t\t    15\n",
      "2\t8\t12\t18\n"
     ]
    }
   ],
   "source": [
    "print('\\t    10\\n    5\\t\\t    15\\n2\\t8\\t12\\t18')"
   ]
  },
  {
   "cell_type": "code",
   "execution_count": 29,
   "id": "3b50d6b5",
   "metadata": {},
   "outputs": [
    {
     "name": "stdout",
     "output_type": "stream",
     "text": [
      "The LCA of 18 and 10 is 10\n"
     ]
    }
   ],
   "source": [
    "n1 = np.random.choice([2,5,8,10,12,15,18])\n",
    "n2 = np.random.choice([2,5,8,10,12,15,18])\n",
    "print('The LCA of',n1,'and',n2,'is',find_lca(root,n1,n2))"
   ]
  },
  {
   "cell_type": "markdown",
   "id": "5970d61e",
   "metadata": {},
   "source": [
    "# S02L08 Dynamic Programming"
   ]
  },
  {
   "cell_type": "raw",
   "id": "51f99123",
   "metadata": {},
   "source": [
    "Given a distance, count the total number of ways to cover the distance with 1, 2 and 3 steps. "
   ]
  },
  {
   "cell_type": "code",
   "execution_count": 30,
   "id": "6c505745",
   "metadata": {},
   "outputs": [],
   "source": [
    "def cover_distance(n):\n",
    "    num_of_options = np.zeros(n+1,dtype=int)\n",
    "    num_of_options[:3] = [1,1,2]\n",
    "    for itr in range(3,n+1):\n",
    "        num_of_options[itr] = sum(num_of_options[itr-3:itr])\n",
    "    return num_of_options"
   ]
  },
  {
   "cell_type": "code",
   "execution_count": 31,
   "id": "54fa893b",
   "metadata": {},
   "outputs": [
    {
     "data": {
      "text/plain": [
       "array([  1,   1,   2,   4,   7,  13,  24,  44,  81, 149, 274])"
      ]
     },
     "execution_count": 31,
     "metadata": {},
     "output_type": "execute_result"
    }
   ],
   "source": [
    "cover_distance(10)"
   ]
  },
  {
   "cell_type": "code",
   "execution_count": null,
   "id": "b87f9609",
   "metadata": {},
   "outputs": [],
   "source": []
  },
  {
   "cell_type": "code",
   "execution_count": null,
   "id": "2d58fed7",
   "metadata": {},
   "outputs": [],
   "source": []
  }
 ],
 "metadata": {
  "kernelspec": {
   "display_name": "Python 3 (ipykernel)",
   "language": "python",
   "name": "python3"
  },
  "language_info": {
   "codemirror_mode": {
    "name": "ipython",
    "version": 3
   },
   "file_extension": ".py",
   "mimetype": "text/x-python",
   "name": "python",
   "nbconvert_exporter": "python",
   "pygments_lexer": "ipython3",
   "version": "3.9.7"
  }
 },
 "nbformat": 4,
 "nbformat_minor": 5
}
